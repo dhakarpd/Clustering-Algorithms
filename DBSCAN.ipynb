{
 "cells": [
  {
   "cell_type": "code",
   "execution_count": 1,
   "metadata": {},
   "outputs": [],
   "source": [
    "# DBSCAN Clustering\n",
    "# Importing the libraries\n",
    "import numpy as np\n",
    "import pandas as pd"
   ]
  },
  {
   "cell_type": "code",
   "execution_count": 2,
   "metadata": {},
   "outputs": [],
   "source": [
    "# Importing the dataset\n",
    "dataset = pd.read_csv('Mall_Customers.csv')\n",
    "X = dataset.iloc[:, [3, 4]].values"
   ]
  },
  {
   "cell_type": "code",
   "execution_count": 3,
   "metadata": {},
   "outputs": [],
   "source": [
    "#Applying DBSCAN Algorithm\n",
    "from sklearn.cluster import DBSCAN\n",
    "dbscan=DBSCAN(eps=3,min_samples=4)"
   ]
  },
  {
   "cell_type": "code",
   "execution_count": 4,
   "metadata": {},
   "outputs": [],
   "source": [
    "# Fitting the model\n",
    "db=dbscan.fit(X)\n",
    "core_samples_mask = np.zeros_like(db.labels_, dtype=bool)\n",
    "core_samples_mask[db.core_sample_indices_] = True\n",
    "labels=db.labels_"
   ]
  },
  {
   "cell_type": "code",
   "execution_count": 5,
   "metadata": {},
   "outputs": [],
   "source": [
    "#identifying the points which makes up our core points\n",
    "from sklearn import metrics\n",
    "sample_cores=np.zeros_like(labels,dtype=bool)\n",
    "\n",
    "sample_cores[dbscan.core_sample_indices_]=True"
   ]
  },
  {
   "cell_type": "code",
   "execution_count": 7,
   "metadata": {},
   "outputs": [
    {
     "name": "stdout",
     "output_type": "stream",
     "text": [
      "-0.1908319132560097\n"
     ]
    }
   ],
   "source": [
    "#Calculating the number of clusters\n",
    "n_clusters=len(set(labels))- (1 if -1 in labels else 0)\n",
    "#print(n_clusters)\n",
    "print(metrics.silhouette_score(X,labels,metric='euclidean'))"
   ]
  },
  {
   "cell_type": "code",
   "execution_count": 8,
   "metadata": {},
   "outputs": [
    {
     "name": "stdout",
     "output_type": "stream",
     "text": [
      "3.14667577875628\n"
     ]
    }
   ],
   "source": [
    "print(metrics.calinski_harabasz_score(X, labels))"
   ]
  },
  {
   "cell_type": "code",
   "execution_count": 8,
   "metadata": {},
   "outputs": [
    {
     "name": "stdout",
     "output_type": "stream",
     "text": [
      "{0, 1, 2, 3, 4, 5, 6, 7, 8, -1}\n"
     ]
    },
    {
     "data": {
      "image/png": "[encoded data removed]",
      "text/plain": [
       "<Figure size 432x288 with 1 Axes>"
      ]
     },
     "metadata": {
      "needs_background": "light"
     },
     "output_type": "display_data"
    }
   ],
   "source": [
    "# Plot result\n",
    "import matplotlib.pyplot as py\n",
    "  \n",
    "# Black is used for noise.\n",
    "unique_labels = set(labels)\n",
    "colors = ['tab:blue', 'tab:orange', 'tab:green', 'tab:red','tab:purple', 'tab:brown', 'tab:pink', 'tab:cyan','tab:olive','k']\n",
    "print(unique_labels)\n",
    "for k, col in zip(unique_labels, colors):\n",
    "    #print(k)\n",
    "    #print(col)\n",
    "    if k == -1:\n",
    "        # Black used for noise.\n",
    "        col = 'k'\n",
    "        #print('black')\n",
    "  \n",
    "    class_member_mask = (labels == k)\n",
    "  \n",
    "    xy = X[class_member_mask & core_samples_mask]\n",
    "    py.plot(xy[:, 0], xy[:, 1], 'o', markerfacecolor=col,\n",
    "                                      markeredgecolor='k', \n",
    "                                      markersize=6)\n",
    "  \n",
    "    xy = X[class_member_mask & ~core_samples_mask]\n",
    "    py.plot(xy[:, 0], xy[:, 1], 'o', markerfacecolor=col,\n",
    "                                      markeredgecolor='k',\n",
    "                                      markersize=6)\n",
    "  \n",
    "py.title('number of clusters: %d' %n_clusters)\n",
    "py.xlabel('Annual Income ($)')  \n",
    "py.ylabel('Spending Score (1-100)') \n",
    "py.show()"
   ]
  },
  {
   "cell_type": "code",
   "execution_count": null,
   "metadata": {},
   "outputs": [],
   "source": []
  }
 ],
 "metadata": {
  "kernelspec": {
   "display_name": "Python [conda env:root] *",
   "language": "python",
   "name": "conda-root-py"
  },
  "language_info": {
   "codemirror_mode": {
    "name": "ipython",
    "version": 3
   },
   "file_extension": ".py",
   "mimetype": "text/x-python",
   "name": "python",
   "nbconvert_exporter": "python",
   "pygments_lexer": "ipython3",
   "version": "3.7.4"
  }
 },
 "nbformat": 4,
 "nbformat_minor": 2
}
